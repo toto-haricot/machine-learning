{
 "cells": [
  {
   "cell_type": "code",
   "execution_count": null,
   "id": "11384249",
   "metadata": {},
   "outputs": [],
   "source": [
    "import LinearRegression\n",
    "\n",
    "import numpy as np\n",
    "import pandas as pd"
   ]
  },
  {
   "cell_type": "code",
   "execution_count": null,
   "id": "2693c6f7",
   "metadata": {},
   "outputs": [],
   "source": [
    "path_to_dataset = '../datasets/real_estate.csv'\n",
    "\n",
    "df = pd.read_csv(path_to_dataset, sep=',', index_col=False)\n",
    "print(df.columns)\n",
    "data = np.array(df, dtype=float)\n",
    "\n",
    "np.random.shuffle(data)\n",
    "\n",
    "n_train, n_test = int(0.8*len(data)), len(data)-int(0.8*len(data))\n",
    "\n",
    "x_train, y_train = data[:n_train, 1:7], data[:n_train, 7]\n",
    "x_test, y_test = data[n_train:, 1:7], data[n_train:, 7]\n",
    "\n",
    "y_train = y_train.reshape((n_train, 1))\n",
    "y_test = y_test.reshape((n_test, 1))"
   ]
  },
  {
   "cell_type": "code",
   "execution_count": null,
   "id": "3d3c7958",
   "metadata": {},
   "outputs": [],
   "source": [
    "from LinearRegression import *\n",
    "\n",
    "model = LinearRegression()\n",
    "\n",
    "x_train, y_train = model.normalize(np.concatenate((x_train, y_train), axis=1))\n",
    "\n",
    "y_train = y_train.reshape((n_train, 1))"
   ]
  },
  {
   "cell_type": "code",
   "execution_count": null,
   "id": "5d729664",
   "metadata": {},
   "outputs": [],
   "source": [
    "model.fit(x_train, y_train)"
   ]
  }
 ],
 "metadata": {
  "kernelspec": {
   "display_name": "Python 3 (ipykernel)",
   "language": "python",
   "name": "python3"
  },
  "language_info": {
   "codemirror_mode": {
    "name": "ipython",
    "version": 3
   },
   "file_extension": ".py",
   "mimetype": "text/x-python",
   "name": "python",
   "nbconvert_exporter": "python",
   "pygments_lexer": "ipython3",
   "version": "3.9.7"
  }
 },
 "nbformat": 4,
 "nbformat_minor": 5
}
