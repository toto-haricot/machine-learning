{
 "cells": [
  {
   "cell_type": "code",
   "execution_count": 1,
   "id": "11384249",
   "metadata": {},
   "outputs": [],
   "source": [
    "import LinearRegression\n",
    "\n",
    "import numpy as np\n",
    "import pandas as pd\n",
    "import seaborn as sns\n",
    "import matplotlib.pyplot as plt\n",
    "\n",
    "from LinearRegression import *"
   ]
  },
  {
   "cell_type": "code",
   "execution_count": 2,
   "id": "3439e567",
   "metadata": {},
   "outputs": [
    {
     "name": "stdout",
     "output_type": "stream",
     "text": [
      "Index(['No', 'X1 transaction date', 'X2 house age',\n",
      "       'X3 distance to the nearest MRT station',\n",
      "       'X4 number of convenience stores', 'X5 latitude', 'X6 longitude',\n",
      "       'Y house price of unit area'],\n",
      "      dtype='object') (414, 7)\n"
     ]
    }
   ],
   "source": [
    "path_to_dataset = '../datasets/real_estate.csv'\n",
    "\n",
    "df = pd.read_csv(path_to_dataset, sep=',', index_col=False)\n",
    "\n",
    "data = np.array(df, dtype=float)[:,1:]\n",
    "\n",
    "print(df.columns, data.shape)"
   ]
  },
  {
   "cell_type": "code",
   "execution_count": 3,
   "id": "8f587d17",
   "metadata": {},
   "outputs": [],
   "source": [
    "model1 = LinearRegression()\n",
    "model2 = LinearRegression()"
   ]
  },
  {
   "cell_type": "code",
   "execution_count": 4,
   "id": "2693c6f7",
   "metadata": {},
   "outputs": [],
   "source": [
    "np.random.shuffle(data)\n",
    "\n",
    "n_train, n_test = int(0.8*len(data)), len(data)-int(0.8*len(data))\n",
    "\n",
    "x_train, y_train = data[:n_train, :-1], data[:n_train,-1]\n",
    "x_test, y_test = data[n_train:, :-1], data[n_train:, -1]\n",
    "\n",
    "y_train = y_train.reshape((n_train, 1))\n",
    "y_test = y_test.reshape((n_test, 1))"
   ]
  },
  {
   "cell_type": "code",
   "execution_count": 5,
   "id": "337169d2",
   "metadata": {},
   "outputs": [
    {
     "name": "stdout",
     "output_type": "stream",
     "text": [
      "(331, 6) (331, 1)\n"
     ]
    }
   ],
   "source": [
    "print(x_train.shape,y_train.shape)"
   ]
  },
  {
   "cell_type": "code",
   "execution_count": 6,
   "id": "5d729664",
   "metadata": {},
   "outputs": [],
   "source": [
    "err1 = model1.fit(x_train, y_train, method='gradient_descent')\n",
    "err2 = model2.fit(x_train, y_train, method='direct')"
   ]
  },
  {
   "cell_type": "code",
   "execution_count": 7,
   "id": "ecbb70ca",
   "metadata": {},
   "outputs": [],
   "source": [
    "acc1 = model1.evaluate(x_test, y_test)\n",
    "acc2 = model2.evaluate(x_test, y_test)"
   ]
  }
 ],
 "metadata": {
  "kernelspec": {
   "display_name": "Python 3 (ipykernel)",
   "language": "python",
   "name": "python3"
  },
  "language_info": {
   "codemirror_mode": {
    "name": "ipython",
    "version": 3
   },
   "file_extension": ".py",
   "mimetype": "text/x-python",
   "name": "python",
   "nbconvert_exporter": "python",
   "pygments_lexer": "ipython3",
   "version": "3.9.7"
  }
 },
 "nbformat": 4,
 "nbformat_minor": 5
}
