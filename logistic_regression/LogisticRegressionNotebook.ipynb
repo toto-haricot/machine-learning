{
 "cells": [
  {
   "cell_type": "markdown",
   "id": "ede2ab00",
   "metadata": {},
   "source": [
    "# Logistic Regression Notebook"
   ]
  },
  {
   "cell_type": "markdown",
   "id": "74197b83",
   "metadata": {},
   "source": [
    "This notebook is meant to test and visualize the results of our python script `LogisticRegression()`. <br><br>\n",
    "\n",
    "We import the dataset <a href=\"https://www.kaggle.com/datasets/uciml/pima-indians-diabetes-database\">**Pima Indians Diabetes DataSet** </a> stored in `datasets/diabetes.csv` and then build a binary classification model based on logistic regression. We train the model with the `fit()` method which uses gradient descent and finally we give a look to the model performances. <br><br>\n",
    "\n",
    "<u>Note</u>: You may need to add the path to the `machine_learning/datasets/` repository to the list of directories where your Python interpreter searches for. This is done thanks to the following line of code : \n",
    "    \n",
    "    import os\n",
    "    os.sys.path.append(\"/path/to/machine_learning/datasets/\")\n",
    "    \n",
    "<br>The other only libraries you need are `numpy`, `pandas` and `matplotlib.pyplot`. <br><br> Then you should be up and running to execute the whole notebook 👍"
   ]
  },
  {
   "cell_type": "markdown",
   "id": "f62526d5",
   "metadata": {},
   "source": [
    "### imports"
   ]
  },
  {
   "cell_type": "code",
   "execution_count": 1,
   "id": "2e04af06",
   "metadata": {},
   "outputs": [],
   "source": [
    "import os\n",
    "os.sys.path.append('/Users/thomaswaldura/Documents/github/machine_learning/datasets')\n",
    "import utils\n",
    "import LogisticRegression\n",
    "\n",
    "import numpy as np\n",
    "import pandas as pd\n",
    "import matplotlib.pyplot as plt\n",
    "\n",
    "from LogisticRegression import *"
   ]
  },
  {
   "cell_type": "markdown",
   "id": "916688e2",
   "metadata": {},
   "source": [
    "### reading data"
   ]
  },
  {
   "cell_type": "code",
   "execution_count": 2,
   "id": "9e97af0e",
   "metadata": {
    "scrolled": true
   },
   "outputs": [],
   "source": [
    "df = pd.read_csv('../datasets/diabetes.csv', sep=',', index_col=False)\n",
    "\n",
    "dataset = np.array(df)\n",
    "\n",
    "X_train, y_train, X_test, y_test = utils.split_dataset(dataset[:,:8], dataset[:,-1], 0.8)"
   ]
  },
  {
   "cell_type": "markdown",
   "id": "914e390b",
   "metadata": {},
   "source": [
    "### model creation"
   ]
  },
  {
   "cell_type": "code",
   "execution_count": 3,
   "id": "9153c3ae",
   "metadata": {},
   "outputs": [],
   "source": [
    "model = LogisticRegression()"
   ]
  },
  {
   "cell_type": "markdown",
   "id": "3a2886c6",
   "metadata": {},
   "source": [
    "### model training with gradient descent"
   ]
  },
  {
   "cell_type": "code",
   "execution_count": 4,
   "id": "c8a44776",
   "metadata": {
    "scrolled": true
   },
   "outputs": [
    {
     "name": "stdout",
     "output_type": "stream",
     "text": [
      "Start training for 500 epochs\n"
     ]
    }
   ],
   "source": [
    "errors = model.fit(X=X_train, y=y_train, n_epoch=500, lr=.008)"
   ]
  },
  {
   "cell_type": "markdown",
   "id": "b395a5dd",
   "metadata": {},
   "source": [
    "### model evaluation"
   ]
  },
  {
   "cell_type": "code",
   "execution_count": 5,
   "id": "493cb129",
   "metadata": {},
   "outputs": [
    {
     "data": {
      "image/png": "[encoded data removed]",
      "text/plain": [
       "<Figure size 432x288 with 1 Axes>"
      ]
     },
     "metadata": {
      "needs_background": "light"
     },
     "output_type": "display_data"
    }
   ],
   "source": [
    "plt.plot(errors)\n",
    "plt.title('Evolution of the loss during training')\n",
    "plt.show()"
   ]
  },
  {
   "cell_type": "code",
   "execution_count": 6,
   "id": "7f366e43",
   "metadata": {},
   "outputs": [
    {
     "name": "stdout",
     "output_type": "stream",
     "text": [
      "Accuracy on testing set : 0.7987\n"
     ]
    }
   ],
   "source": [
    "accuracy = model.evaluate(X_test, y_test)\n",
    "\n",
    "print(f'Accuracy on testing set : {round(accuracy, 4)}')"
   ]
  },
  {
   "cell_type": "code",
   "execution_count": 7,
   "id": "c557bcb6",
   "metadata": {},
   "outputs": [
    {
     "name": "stdout",
     "output_type": "stream",
     "text": [
      "Predictions    0   1  All\n",
      "Targets                  \n",
      "0.0           88  12  100\n",
      "1.0           19  35   54\n",
      "All          107  47  154\n"
     ]
    }
   ],
   "source": [
    "#confusion matrix\n",
    "\n",
    "X_test_norm, _, _ = model.normalize(X_test, std=model.normalize_std_x, mean=model.normalize_mean_x)\n",
    "\n",
    "y_pred = model.predict(X_test_norm)\n",
    "\n",
    "y_test = y_test.reshape(154,)\n",
    "y_pred = y_pred.reshape(154,)\n",
    "\n",
    "y_test = pd.Series(y_test, name='Target')\n",
    "y_pred = pd.Series(y_pred, name='Predictions')\n",
    "\n",
    "df_confusion = pd.crosstab(y_test, y_pred, rownames=['Targets'], colnames=['Predictions'], margins=True)\n",
    "\n",
    "print(df_confusion)"
   ]
  }
 ],
 "metadata": {
  "kernelspec": {
   "display_name": "image_restoration2",
   "language": "python",
   "name": "image_restoration2"
  },
  "language_info": {
   "codemirror_mode": {
    "name": "ipython",
    "version": 3
   },
   "file_extension": ".py",
   "mimetype": "text/x-python",
   "name": "python",
   "nbconvert_exporter": "python",
   "pygments_lexer": "ipython3",
   "version": "3.9.7"
  }
 },
 "nbformat": 4,
 "nbformat_minor": 5
}
